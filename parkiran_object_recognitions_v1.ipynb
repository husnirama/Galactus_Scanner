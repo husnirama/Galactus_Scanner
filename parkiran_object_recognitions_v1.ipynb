{
 "cells": [
  {
   "cell_type": "code",
   "execution_count": 45,
   "metadata": {},
   "outputs": [],
   "source": [
    "from imageai.Detection import ObjectDetection\n",
    "import os\n",
    "import json\n",
    "\n",
    "execution_path = 'C:\\\\Users\\\\Husni\\\\Documents\\\\parkiran'\n",
    "output = []\n",
    "\n",
    "from IPython.display import Image\n",
    "\n",
    "detector = ObjectDetection()\n",
    "detector.setModelTypeAsRetinaNet()\n",
    "detector.setModelPath(os.path.join('C:\\\\Users\\\\Husni\\\\Documents', \"resnet50_coco_best_v2.0.1.h5\"))\n",
    "detector.loadModel()\n",
    "\n",
    "# r=root, d=directories, f = files\n",
    "for r, d, f in os.walk(execution_path):\n",
    "    for file in f:\n",
    "        detections = detector.detectObjectsFromImage(input_image=os.path.join(execution_path , file), output_image_path=os.path.join(execution_path , file[:-4]+\"new.jpg\"))\n",
    "        with open(file[:-4]+'.json', 'w') as outfile:\n",
    "            json.dump(detections, outfile)"
   ]
  }
 ],
 "metadata": {
  "kernelspec": {
   "display_name": "Python 3",
   "language": "python",
   "name": "python3"
  },
  "language_info": {
   "codemirror_mode": {
    "name": "ipython",
    "version": 3
   },
   "file_extension": ".py",
   "mimetype": "text/x-python",
   "name": "python",
   "nbconvert_exporter": "python",
   "pygments_lexer": "ipython3",
   "version": "3.6.8"
  }
 },
 "nbformat": 4,
 "nbformat_minor": 2
}
